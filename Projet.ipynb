{
 "cells": [
  {
   "cell_type": "markdown",
   "id": "8d2b4777-34d0-42b5-b8f6-ee8354cdf386",
   "metadata": {},
   "source": [
    "# Projet MLops"
   ]
  },
  {
   "cell_type": "markdown",
   "id": "bd3ff3d5-ab10-405b-8287-7189d2a6bee9",
   "metadata": {},
   "source": [
    "#### Groupe : Lucas - Klervi - Elena - Thomas R\n",
    "vasseur.corentin@gmail.com"
   ]
  },
  {
   "cell_type": "code",
   "execution_count": 1,
   "id": "06dd1e2f-f26d-4e07-bdaf-cd31c72ae2a5",
   "metadata": {},
   "outputs": [],
   "source": [
    "#Import des données\n",
    "\n",
    "import pandas as pd\n",
    "\n",
    "dt = pd.read_csv(\"data/revenus.csv\")"
   ]
  },
  {
   "cell_type": "code",
   "execution_count": null,
   "id": "af565694",
   "metadata": {},
   "outputs": [],
   "source": []
  }
 ],
 "metadata": {
  "kernelspec": {
   "display_name": "base",
   "language": "python",
   "name": "python3"
  },
  "language_info": {
   "codemirror_mode": {
    "name": "ipython",
    "version": 3
   },
   "file_extension": ".py",
   "mimetype": "text/x-python",
   "name": "python",
   "nbconvert_exporter": "python",
   "pygments_lexer": "ipython3",
   "version": "3.8.5"
  }
 },
 "nbformat": 4,
 "nbformat_minor": 5
}
